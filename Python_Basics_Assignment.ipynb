{
  "nbformat": 4,
  "nbformat_minor": 0,
  "metadata": {
    "colab": {
      "provenance": []
    },
    "kernelspec": {
      "name": "python3",
      "display_name": "Python 3"
    },
    "language_info": {
      "name": "python"
    }
  },
  "cells": [
    {
      "cell_type": "markdown",
      "source": [
        "# Python Basics Questions."
      ],
      "metadata": {
        "id": "yEniAwJW21yq"
      }
    },
    {
      "cell_type": "markdown",
      "source": [
        "1. What is Python, and why is it popular ?\n",
        "  - Python is a object oriented, interative, high-level programmimg language. It is popular because it is easy to learn/read and have a lot of libraries in it.\n",
        "\n",
        "2. What is an interpreter in Python?\n",
        "  - In Python Interpreter is a computer program which reads and executes or converts the python code into machine level language.\n",
        "\n",
        "3. What are pre-defined keywords in Python?\n",
        "  - Pre-defined keywords are special reserved words with special meanings. Each keyword has its special meaning in Python.\n",
        "\n",
        "4. Can keywords be used as variable names?\n",
        "  - No, In python keywords can not be used as Variables.\n",
        "\n",
        "5. What is mutability in Python?\n",
        "  - In python Mutabilty has the ability to change in data or value of an objescts after it has been created.\n",
        "\n",
        "6. Why are lists mutable, but tuples are immutable?\n",
        "  - Lists are mutable because they can be changed or modified after they are created that means the elements of list can be added, removed or modified without creating a new list.\n",
        "  - Tuples are immutable because their contents can not be changed, removed, or modified after creation.\n",
        "\n",
        "7. What is the difference between “==” and “is” operators in Python?\n",
        "  - The difference between \"==\" and \"is\" operators are followed :-\n",
        "  - \"==\" is used for the comparison of the values of two objects.\n",
        "  - \"is\" is used for the comparison of the identity of two objects.\n",
        "\n",
        "8. What are logical operators in Python?\n",
        "  - Logical operators are keywords that combine and modify boolean values to produce boolean result.\n",
        "  - there are three logical operators in python that is :- \"And\", \"Or\", \"Not\"\n",
        "  - \"And\" operator evaluates True if the expression or value of an operands is true.\n",
        "  - \"Or\" operator evaluates false only if both the statements around the operator are false otherwise it is true.\n",
        "  - \"Not\" operator inverts the boolean value of an expression. It converts true to false and false to true.\n",
        "\n",
        "9. What is type casting in Python?\n",
        "  - Type castimg is process of changing a variable's data type into another data type in pytho. Examples of type casting in python are followed:- that is converting an int to float, converting int to str, etc.\n",
        "\n",
        "10. What is the difference between implicit and explicit type casting?\n",
        "  - Implicit:- It is an interpreter which automatically converts one data into another data.\n",
        "  - Explicit:- In this the programmer manually converts one data into another data by writing the code which instructs the interpreter to make the conversion.\n",
        "\n",
        "11. What is the purpose of conditional statements in Python?\n",
        "  - The purpose of conditional statement in python is to control the flow of a program by making decisions based on certain conditions.\n",
        "\n",
        "12. How does the elif statement work?\n",
        "  - It can be used in conditional statement to check for the multiple conditions. If the first condition is false, it move on to the \"elif\" statement to check if that condition is true.\n",
        "\n",
        "13. What is the difference between for and while loops?\n",
        "  - A For loop in python repeats executing a code block from a sequence till certain number of times.\n",
        "  - A While loop in python repeats execution of code block till the condition is true which is not certain.\n",
        "\n",
        "14. Describe a scenario where a while loop is more suitable than a for loop.\n",
        "  - Not able to give the answer for this question.            \n"
      ],
      "metadata": {
        "id": "Z4roG1-PiJSQ"
      }
    },
    {
      "cell_type": "markdown",
      "source": [
        "# Practical Questions."
      ],
      "metadata": {
        "id": "iRG5aF6U3BF-"
      }
    },
    {
      "cell_type": "code",
      "source": [
        "# 20 Write a Python program to print \"Hello, World!_\n",
        "\n",
        "print(\"Hello World!\")"
      ],
      "metadata": {
        "colab": {
          "base_uri": "https://localhost:8080/"
        },
        "id": "9UecVob23KE4",
        "outputId": "e160c9bc-2956-47f3-b1d2-aaca5a783aa8"
      },
      "execution_count": null,
      "outputs": [
        {
          "output_type": "stream",
          "name": "stdout",
          "text": [
            "Hello World!\n"
          ]
        }
      ]
    },
    {
      "cell_type": "code",
      "source": [
        "# Write a Python program that displays your name and age.\n",
        "\n",
        "name = (\"Sudarshan\")\n",
        "age = 24\n",
        "\n",
        "print(\"My name is\", name)\n",
        "print(\"My age is\", age)"
      ],
      "metadata": {
        "colab": {
          "base_uri": "https://localhost:8080/"
        },
        "id": "1HT4_T8Y3mmq",
        "outputId": "06c5ec1e-6711-48c9-94a0-b0b6dbc45550"
      },
      "execution_count": null,
      "outputs": [
        {
          "output_type": "stream",
          "name": "stdout",
          "text": [
            "My name is Sudarshan\n",
            "My age is 24\n"
          ]
        }
      ]
    },
    {
      "cell_type": "code",
      "source": [
        "# Write code to print all the pre-defined keywords in Python using the keyword library.\n",
        "\n",
        "import keyword\n",
        "print(keyword.kwlist)\n"
      ],
      "metadata": {
        "colab": {
          "base_uri": "https://localhost:8080/"
        },
        "id": "8fKPjfI2952W",
        "outputId": "f1a299bb-0ba3-4ac8-85f4-7e7f311bb1db"
      },
      "execution_count": null,
      "outputs": [
        {
          "output_type": "stream",
          "name": "stdout",
          "text": [
            "['False', 'None', 'True', 'and', 'as', 'assert', 'async', 'await', 'break', 'class', 'continue', 'def', 'del', 'elif', 'else', 'except', 'finally', 'for', 'from', 'global', 'if', 'import', 'in', 'is', 'lambda', 'nonlocal', 'not', 'or', 'pass', 'raise', 'return', 'try', 'while', 'with', 'yield']\n"
          ]
        }
      ]
    },
    {
      "cell_type": "code",
      "source": [
        "# Write a program that checks if a given word is a Python keyword.\n",
        "import keyword\n",
        "s = \"while\"\n",
        "\n",
        "if s in keyword.kwlist:\n",
        "    print(f\"'{s}' is a python keyword.\")\n",
        "else:\n",
        "    print(f\"'{s}' is not a python keyword.\")"
      ],
      "metadata": {
        "colab": {
          "base_uri": "https://localhost:8080/"
        },
        "id": "OS9HmCfzCmc4",
        "outputId": "dfe16317-83ea-4f45-d21e-555a3a6fc3ca"
      },
      "execution_count": null,
      "outputs": [
        {
          "output_type": "stream",
          "name": "stdout",
          "text": [
            "'while' is a python keyword.\n"
          ]
        }
      ]
    },
    {
      "cell_type": "code",
      "source": [
        "# Write a for loop to print numbers from 1 to 10\n",
        "\n",
        "for i in range(1, 11):\n",
        "  print(i)"
      ],
      "metadata": {
        "id": "2QCuUOoXIAe1",
        "colab": {
          "base_uri": "https://localhost:8080/"
        },
        "outputId": "d9867b16-a663-44f6-8e28-a660abdfd830"
      },
      "execution_count": 4,
      "outputs": [
        {
          "output_type": "stream",
          "name": "stdout",
          "text": [
            "1\n",
            "2\n",
            "3\n",
            "4\n",
            "5\n",
            "6\n",
            "7\n",
            "8\n",
            "9\n",
            "10\n"
          ]
        }
      ]
    },
    {
      "cell_type": "code",
      "source": [
        "# Write a program to demondtrate the use of logical operators.\n",
        "\n",
        "print(3>2 and 5<10)\n",
        "\n",
        "print(3<2 or 5>2)"
      ],
      "metadata": {
        "colab": {
          "base_uri": "https://localhost:8080/"
        },
        "id": "tBndEL69mTNR",
        "outputId": "1a4606b3-5a62-492d-a2b6-f7fbfc435357"
      },
      "execution_count": 6,
      "outputs": [
        {
          "output_type": "stream",
          "name": "stdout",
          "text": [
            "True\n",
            "True\n"
          ]
        }
      ]
    },
    {
      "cell_type": "markdown",
      "source": [
        "# As I'm new to this course I'm not able to do some practical questions from the given assignment. It's a humble request to the respected Ma'am/Sir to send me the answers of the practical questions for my better understanding.  Thank You."
      ],
      "metadata": {
        "id": "w2jx2kwQ_dS1"
      }
    }
  ]
}